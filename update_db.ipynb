{
 "cells": [
  {
   "cell_type": "code",
   "execution_count": 2,
   "metadata": {},
   "outputs": [],
   "source": [
    "import cosima_cookbook as cc\n",
    "import glob"
   ]
  },
  {
   "cell_type": "code",
   "execution_count": 3,
   "metadata": {},
   "outputs": [
    {
     "data": {
      "text/html": [
       "<table style=\"border: 2px solid white;\">\n",
       "<tr>\n",
       "<td style=\"vertical-align: top; border: 0px solid white\">\n",
       "<h3 style=\"text-align: left;\">Client</h3>\n",
       "<ul style=\"text-align: left; list-style: none; margin: 0; padding: 0;\">\n",
       "  <li><b>Scheduler: </b>tcp://127.0.0.1:39771</li>\n",
       "  <li><b>Dashboard: </b><a href='/proxy/8787/status' target='_blank'>/proxy/8787/status</a></li>\n",
       "</ul>\n",
       "</td>\n",
       "<td style=\"vertical-align: top; border: 0px solid white\">\n",
       "<h3 style=\"text-align: left;\">Cluster</h3>\n",
       "<ul style=\"text-align: left; list-style:none; margin: 0; padding: 0;\">\n",
       "  <li><b>Workers: </b>8</li>\n",
       "  <li><b>Cores: </b>8</li>\n",
       "  <li><b>Memory: </b>137.44 GB</li>\n",
       "</ul>\n",
       "</td>\n",
       "</tr>\n",
       "</table>"
      ],
      "text/plain": [
       "<Client: 'tcp://127.0.0.1:39771' processes=8 threads=8, memory=137.44 GB>"
      ]
     },
     "execution_count": 3,
     "metadata": {},
     "output_type": "execute_result"
    }
   ],
   "source": [
    "import climtas.nci\n",
    "climtas.nci.GadiClient()"
   ]
  },
  {
   "cell_type": "code",
   "execution_count": 4,
   "metadata": {},
   "outputs": [
    {
     "name": "stderr",
     "output_type": "stream",
     "text": [
      "  0%|          | 0/2074 [00:00<?, ?it/s]"
     ]
    },
    {
     "name": "stdout",
     "output_type": "stream",
     "text": [
      "Indexing experiment: 1deg_jra55_iaf_omip2-fixed_cycle6\n"
     ]
    },
    {
     "name": "stderr",
     "output_type": "stream",
     "text": [
      "100%|██████████| 2074/2074 [08:08<00:00,  4.25it/s]\n",
      "  0%|          | 0/2074 [00:00<?, ?it/s]"
     ]
    },
    {
     "name": "stdout",
     "output_type": "stream",
     "text": [
      "Indexing experiment: 1deg_jra55_iaf_omip2-fixed_cycle5\n"
     ]
    },
    {
     "name": "stderr",
     "output_type": "stream",
     "text": [
      "100%|██████████| 2074/2074 [08:42<00:00,  3.97it/s]\n",
      "  0%|          | 0/2074 [00:00<?, ?it/s]"
     ]
    },
    {
     "name": "stdout",
     "output_type": "stream",
     "text": [
      "Indexing experiment: 1deg_jra55_iaf_omip2-fixed_cycle3\n"
     ]
    },
    {
     "name": "stderr",
     "output_type": "stream",
     "text": [
      "100%|██████████| 2074/2074 [08:38<00:00,  4.00it/s]\n",
      "  0%|          | 0/2074 [00:00<?, ?it/s]"
     ]
    },
    {
     "name": "stdout",
     "output_type": "stream",
     "text": [
      "Indexing experiment: 1deg_jra55_iaf_omip2-fixed_cycle2\n"
     ]
    },
    {
     "name": "stderr",
     "output_type": "stream",
     "text": [
      "100%|██████████| 2074/2074 [08:27<00:00,  4.08it/s]\n",
      "  0%|          | 0/2074 [00:00<?, ?it/s]"
     ]
    },
    {
     "name": "stdout",
     "output_type": "stream",
     "text": [
      "Indexing experiment: 1deg_jra55_iaf_omip2-fixed_cycle4\n"
     ]
    },
    {
     "name": "stderr",
     "output_type": "stream",
     "text": [
      "100%|██████████| 2074/2074 [08:18<00:00,  4.16it/s]\n",
      "  0%|          | 0/2074 [00:00<?, ?it/s]"
     ]
    },
    {
     "name": "stdout",
     "output_type": "stream",
     "text": [
      "Indexing experiment: 1deg_jra55_iaf_omip2-fixed_cycle1\n"
     ]
    },
    {
     "name": "stderr",
     "output_type": "stream",
     "text": [
      "100%|██████████| 2074/2074 [09:00<00:00,  3.84it/s]\n"
     ]
    },
    {
     "data": {
      "text/plain": [
       "12444"
      ]
     },
     "execution_count": 4,
     "metadata": {},
     "output_type": "execute_result"
    }
   ],
   "source": [
    "dbname = '1deg_jra55_iaf_omip2-fixed.db'\n",
    "sess_1deg = cc.database.create_session(dbname)\n",
    "#cc.database.build_index(['/scratch/v45/hh0162/access-om2/archive/1deg_jra55_iaf_omip2-fixed'], sess_1deg, update=True)\n",
    "cc.database.build_index(glob.glob('/scratch/v45/aek156/access-om2/archive/1deg_jra55_iaf_omip2-fixed_cycle*'), sess_1deg, update=True, followsymlinks=True)"
   ]
  },
  {
   "cell_type": "code",
   "execution_count": 6,
   "metadata": {},
   "outputs": [
    {
     "data": {
      "text/plain": [
       "['/scratch/v45/aek156/access-om2/archive/1deg_jra55_iaf_omip2-fixed_cycle6',\n",
       " '/scratch/v45/aek156/access-om2/archive/1deg_jra55_iaf_omip2-fixed_cycle5',\n",
       " '/scratch/v45/aek156/access-om2/archive/1deg_jra55_iaf_omip2-fixed_cycle3',\n",
       " '/scratch/v45/aek156/access-om2/archive/1deg_jra55_iaf_omip2-fixed_cycle2',\n",
       " '/scratch/v45/aek156/access-om2/archive/1deg_jra55_iaf_omip2-fixed_cycle4',\n",
       " '/scratch/v45/aek156/access-om2/archive/1deg_jra55_iaf_omip2-fixed_cycle1']"
      ]
     },
     "execution_count": 6,
     "metadata": {},
     "output_type": "execute_result"
    }
   ],
   "source": [
    "glob.glob('/scratch/v45/aek156/access-om2/archive/1deg_jra55_iaf_omip2-fixed_cycle*')"
   ]
  },
  {
   "cell_type": "code",
   "execution_count": 5,
   "metadata": {},
   "outputs": [
    {
     "data": {
      "text/html": [
       "<div>\n",
       "<style scoped>\n",
       "    .dataframe tbody tr th:only-of-type {\n",
       "        vertical-align: middle;\n",
       "    }\n",
       "\n",
       "    .dataframe tbody tr th {\n",
       "        vertical-align: top;\n",
       "    }\n",
       "\n",
       "    .dataframe thead th {\n",
       "        text-align: right;\n",
       "    }\n",
       "</style>\n",
       "<table border=\"1\" class=\"dataframe\">\n",
       "  <thead>\n",
       "    <tr style=\"text-align: right;\">\n",
       "      <th></th>\n",
       "      <th>experiment</th>\n",
       "      <th>contact</th>\n",
       "      <th>email</th>\n",
       "      <th>created</th>\n",
       "      <th>description</th>\n",
       "      <th>notes</th>\n",
       "      <th>root_dir</th>\n",
       "      <th>ncfiles</th>\n",
       "    </tr>\n",
       "  </thead>\n",
       "  <tbody>\n",
       "    <tr>\n",
       "      <th>0</th>\n",
       "      <td>1deg_jra55_iaf_omip2-fixed_cycle6</td>\n",
       "      <td>None</td>\n",
       "      <td>None</td>\n",
       "      <td>None</td>\n",
       "      <td>None</td>\n",
       "      <td>None</td>\n",
       "      <td>/scratch/v45/aek156/access-om2/archive/1deg_jr...</td>\n",
       "      <td>2074</td>\n",
       "    </tr>\n",
       "    <tr>\n",
       "      <th>1</th>\n",
       "      <td>1deg_jra55_iaf_omip2-fixed_cycle5</td>\n",
       "      <td>None</td>\n",
       "      <td>None</td>\n",
       "      <td>None</td>\n",
       "      <td>None</td>\n",
       "      <td>None</td>\n",
       "      <td>/scratch/v45/aek156/access-om2/archive/1deg_jr...</td>\n",
       "      <td>2074</td>\n",
       "    </tr>\n",
       "    <tr>\n",
       "      <th>2</th>\n",
       "      <td>1deg_jra55_iaf_omip2-fixed_cycle3</td>\n",
       "      <td>None</td>\n",
       "      <td>None</td>\n",
       "      <td>None</td>\n",
       "      <td>None</td>\n",
       "      <td>None</td>\n",
       "      <td>/scratch/v45/aek156/access-om2/archive/1deg_jr...</td>\n",
       "      <td>2074</td>\n",
       "    </tr>\n",
       "    <tr>\n",
       "      <th>3</th>\n",
       "      <td>1deg_jra55_iaf_omip2-fixed_cycle2</td>\n",
       "      <td>None</td>\n",
       "      <td>None</td>\n",
       "      <td>None</td>\n",
       "      <td>None</td>\n",
       "      <td>None</td>\n",
       "      <td>/scratch/v45/aek156/access-om2/archive/1deg_jr...</td>\n",
       "      <td>2074</td>\n",
       "    </tr>\n",
       "    <tr>\n",
       "      <th>4</th>\n",
       "      <td>1deg_jra55_iaf_omip2-fixed_cycle4</td>\n",
       "      <td>None</td>\n",
       "      <td>None</td>\n",
       "      <td>None</td>\n",
       "      <td>None</td>\n",
       "      <td>None</td>\n",
       "      <td>/scratch/v45/aek156/access-om2/archive/1deg_jr...</td>\n",
       "      <td>2074</td>\n",
       "    </tr>\n",
       "    <tr>\n",
       "      <th>5</th>\n",
       "      <td>1deg_jra55_iaf_omip2-fixed_cycle1</td>\n",
       "      <td>None</td>\n",
       "      <td>None</td>\n",
       "      <td>None</td>\n",
       "      <td>None</td>\n",
       "      <td>None</td>\n",
       "      <td>/scratch/v45/aek156/access-om2/archive/1deg_jr...</td>\n",
       "      <td>2074</td>\n",
       "    </tr>\n",
       "  </tbody>\n",
       "</table>\n",
       "</div>"
      ],
      "text/plain": [
       "                          experiment contact email created description notes  \\\n",
       "0  1deg_jra55_iaf_omip2-fixed_cycle6    None  None    None        None  None   \n",
       "1  1deg_jra55_iaf_omip2-fixed_cycle5    None  None    None        None  None   \n",
       "2  1deg_jra55_iaf_omip2-fixed_cycle3    None  None    None        None  None   \n",
       "3  1deg_jra55_iaf_omip2-fixed_cycle2    None  None    None        None  None   \n",
       "4  1deg_jra55_iaf_omip2-fixed_cycle4    None  None    None        None  None   \n",
       "5  1deg_jra55_iaf_omip2-fixed_cycle1    None  None    None        None  None   \n",
       "\n",
       "                                            root_dir  ncfiles  \n",
       "0  /scratch/v45/aek156/access-om2/archive/1deg_jr...     2074  \n",
       "1  /scratch/v45/aek156/access-om2/archive/1deg_jr...     2074  \n",
       "2  /scratch/v45/aek156/access-om2/archive/1deg_jr...     2074  \n",
       "3  /scratch/v45/aek156/access-om2/archive/1deg_jr...     2074  \n",
       "4  /scratch/v45/aek156/access-om2/archive/1deg_jr...     2074  \n",
       "5  /scratch/v45/aek156/access-om2/archive/1deg_jr...     2074  "
      ]
     },
     "execution_count": 5,
     "metadata": {},
     "output_type": "execute_result"
    }
   ],
   "source": [
    "cc.querying.get_experiments(sess_1deg, all=True)"
   ]
  },
  {
   "cell_type": "code",
   "execution_count": null,
   "metadata": {},
   "outputs": [],
   "source": []
  }
 ],
 "metadata": {
  "kernelspec": {
   "display_name": "Python [conda env:analysis3-20.10]",
   "language": "python",
   "name": "conda-env-analysis3-20.10-py"
  },
  "language_info": {
   "codemirror_mode": {
    "name": "ipython",
    "version": 3
   },
   "file_extension": ".py",
   "mimetype": "text/x-python",
   "name": "python",
   "nbconvert_exporter": "python",
   "pygments_lexer": "ipython3",
   "version": "3.8.6"
  }
 },
 "nbformat": 4,
 "nbformat_minor": 4
}
